{
 "cells": [
  {
   "cell_type": "code",
   "execution_count": 7,
   "metadata": {},
   "outputs": [],
   "source": [
    "#los tienen?\n",
    "import itertools\n",
    "import networkx as nx"
   ]
  },
  {
   "cell_type": "code",
   "execution_count": 1,
   "metadata": {},
   "outputs": [],
   "source": [
    "import pandas as pd\n",
    "users=pd.read_csv(\"https://docs.google.com/spreadsheets/d/e/2PACX-1vT_ZAlzgxG5dU_ZPMRbdNusU0zlbba4bWz0VVkAlwt7Z3ds3ieejgXFicoj4sJU6sQMpno1nilijnDf/pub?gid=0&single=true&output=csv\")"
   ]
  },
  {
   "cell_type": "code",
   "execution_count": 5,
   "metadata": {},
   "outputs": [],
   "source": [
    "usersIDs=list(users.Cuenta)"
   ]
  },
  {
   "cell_type": "code",
   "execution_count": 6,
   "metadata": {},
   "outputs": [],
   "source": [
    "# get the security info from file\n",
    "import json\n",
    "keysAPI = json.load(open('keys.txt','r'))\n",
    "# credentials from https://apps.twitter.com/\n",
    "consumerKey = keysAPI['consumer_key']\n",
    "consumerSecret = keysAPI['consumer_secret']\n",
    "accessToken = keysAPI['access_token']\n",
    "accessTokenSecret = keysAPI['access_token_secret']\n",
    "\n",
    "# using security info:\n",
    "import tweepy\n",
    "\n",
    "auth = tweepy.OAuthHandler(consumerKey, consumerSecret)\n",
    "auth.set_access_token(accessToken, accessTokenSecret)\n",
    "api=tweepy.API(auth, wait_on_rate_limit=True,wait_on_rate_limit_notify=True,parser=tweepy.parsers.JSONParser())"
   ]
  },
  {
   "cell_type": "code",
   "execution_count": null,
   "metadata": {},
   "outputs": [],
   "source": [
    "amongLegis = nx.DiGraph()\n",
    "\n",
    "for a,b in itertools.combinations(list(usersIDs.id),2):\n",
    "    \n",
    "    res=api.show_friendship(source_screen_name=a,target_screen_name=b)\n",
    "    status=res['relationship']['source']['following'], res['relationship']['target']['following']    \n",
    "    if status[0] and status[1]:\n",
    "        amongLegis.add_edge(a, b)\n",
    "        amongLegis.add_edge(b, a)\n",
    "    if status[0] and not status[1]:\n",
    "        amongLegis.add_edge(a, b)\n",
    "    if not status[0] and status[1]:\n",
    "        amongLegis.add_edge(b, a)"
   ]
  },
  {
   "cell_type": "code",
   "execution_count": null,
   "metadata": {},
   "outputs": [],
   "source": [
    "#para Gephi:\n",
    "nx.write_graphml(amongLegis, \"amongLegis.graphml\")"
   ]
  },
  {
   "cell_type": "code",
   "execution_count": 8,
   "metadata": {},
   "outputs": [],
   "source": [
    "#para R:\n",
    "pd.DataFrame(list(amongLegis.edges()),columns=['from','to']).to_csv(\"amongLegis_edgelist.csv\")\n",
    "\n",
    "#en R:\n",
    "#redat=read.csv(amongLegis_edgelist.csv,header=TRUE)\n",
    "# g=graph.data.frame(redata,directed=FALSE)"
   ]
  },
  {
   "cell_type": "code",
   "execution_count": null,
   "metadata": {},
   "outputs": [],
   "source": []
  }
 ],
 "metadata": {
  "hide_input": false,
  "kernelspec": {
   "display_name": "Python 3",
   "language": "python",
   "name": "python3"
  },
  "language_info": {
   "codemirror_mode": {
    "name": "ipython",
    "version": 3
   },
   "file_extension": ".py",
   "mimetype": "text/x-python",
   "name": "python",
   "nbconvert_exporter": "python",
   "pygments_lexer": "ipython3",
   "version": "3.6.5"
  }
 },
 "nbformat": 4,
 "nbformat_minor": 2
}
